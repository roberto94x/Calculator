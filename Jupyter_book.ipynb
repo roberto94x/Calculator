{
 "cells": [
  {
   "cell_type": "code",
   "execution_count": null,
   "id": "ad356066",
   "metadata": {},
   "outputs": [],
   "source": []
  },
  {
   "cell_type": "code",
   "execution_count": 1,
   "id": "cda181fa",
   "metadata": {},
   "outputs": [],
   "source": [
    "%run -i 'chess.py'"
   ]
  },
  {
   "cell_type": "code",
   "execution_count": null,
   "id": "a274b70d",
   "metadata": {},
   "outputs": [
    {
     "name": "stdout",
     "output_type": "stream",
     "text": [
      "pygame 2.1.2 (SDL 2.0.18, Python 3.8.8)\n",
      "Hello from the pygame community. https://www.pygame.org/contribute.html\n"
     ]
    }
   ],
   "source": [
    "%run -i 'gui.py'"
   ]
  },
  {
   "cell_type": "code",
   "execution_count": null,
   "id": "398c5a2c",
   "metadata": {},
   "outputs": [],
   "source": []
  }
 ],
 "metadata": {
  "kernelspec": {
   "display_name": "Python 3",
   "language": "python",
   "name": "python3"
  },
  "language_info": {
   "codemirror_mode": {
    "name": "ipython",
    "version": 3
   },
   "file_extension": ".py",
   "mimetype": "text/x-python",
   "name": "python",
   "nbconvert_exporter": "python",
   "pygments_lexer": "ipython3",
   "version": "3.8.8"
  }
 },
 "nbformat": 4,
 "nbformat_minor": 5
}
